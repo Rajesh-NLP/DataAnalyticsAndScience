{
  "nbformat": 4,
  "nbformat_minor": 0,
  "metadata": {
    "colab": {
      "name": "DL-1_keras.ipynb",
      "provenance": []
    },
    "kernelspec": {
      "name": "python3",
      "display_name": "Python 3"
    },
    "language_info": {
      "name": "python"
    },
    "accelerator": "GPU"
  },
  "cells": [
    {
      "cell_type": "code",
      "execution_count": 1,
      "metadata": {
        "id": "k-xLqAy47imB"
      },
      "outputs": [],
      "source": [
        "import pandas as pd\n",
        "import numpy as np"
      ]
    },
    {
      "cell_type": "code",
      "source": [
        "df = pd.read_csv(\"https://raw.githubusercontent.com/mwitiderrick/kerasDO/master/HR_comma_sep.csv\")"
      ],
      "metadata": {
        "id": "c7md7tLz94zs"
      },
      "execution_count": 2,
      "outputs": []
    },
    {
      "cell_type": "code",
      "source": [
        "df.head()\n",
        "df.columns"
      ],
      "metadata": {
        "colab": {
          "base_uri": "https://localhost:8080/"
        },
        "id": "0ZA0X395A4HP",
        "outputId": "9719285a-6b59-4c98-b3f9-052750662e7c"
      },
      "execution_count": 3,
      "outputs": [
        {
          "output_type": "execute_result",
          "data": {
            "text/plain": [
              "Index(['satisfaction_level', 'last_evaluation', 'number_project',\n",
              "       'average_montly_hours', 'time_spend_company', 'Work_accident', 'left',\n",
              "       'promotion_last_5years', 'department', 'salary'],\n",
              "      dtype='object')"
            ]
          },
          "metadata": {},
          "execution_count": 3
        }
      ]
    },
    {
      "cell_type": "code",
      "source": [
        "df['salary'].unique()"
      ],
      "metadata": {
        "colab": {
          "base_uri": "https://localhost:8080/"
        },
        "id": "Seh3o3raA-Qq",
        "outputId": "c959f766-e33a-46ab-852a-58f1fb917a5c"
      },
      "execution_count": 4,
      "outputs": [
        {
          "output_type": "execute_result",
          "data": {
            "text/plain": [
              "array(['low', 'medium', 'high'], dtype=object)"
            ]
          },
          "metadata": {},
          "execution_count": 4
        }
      ]
    },
    {
      "cell_type": "code",
      "source": [
        "feats = ['department', 'salary']\n",
        "df_final = pd.get_dummies(df, columns=feats, drop_first='first')\n",
        "print(df_final.head())"
      ],
      "metadata": {
        "colab": {
          "base_uri": "https://localhost:8080/"
        },
        "id": "LswVhtAIBZlx",
        "outputId": "173cd2a6-ec33-412c-b300-d0d73aa0b0e7"
      },
      "execution_count": 5,
      "outputs": [
        {
          "output_type": "stream",
          "name": "stdout",
          "text": [
            "   satisfaction_level  last_evaluation  ...  salary_low  salary_medium\n",
            "0                0.38             0.53  ...           1              0\n",
            "1                0.80             0.86  ...           0              1\n",
            "2                0.11             0.88  ...           0              1\n",
            "3                0.72             0.87  ...           1              0\n",
            "4                0.37             0.52  ...           1              0\n",
            "\n",
            "[5 rows x 19 columns]\n"
          ]
        }
      ]
    },
    {
      "cell_type": "code",
      "source": [
        "df_final.columns"
      ],
      "metadata": {
        "colab": {
          "base_uri": "https://localhost:8080/"
        },
        "id": "9MU9R4G7Bvry",
        "outputId": "085b72d0-df71-4ade-83b0-b2f5bbd84aae"
      },
      "execution_count": 6,
      "outputs": [
        {
          "output_type": "execute_result",
          "data": {
            "text/plain": [
              "Index(['satisfaction_level', 'last_evaluation', 'number_project',\n",
              "       'average_montly_hours', 'time_spend_company', 'Work_accident', 'left',\n",
              "       'promotion_last_5years', 'department_RandD', 'department_accounting',\n",
              "       'department_hr', 'department_management', 'department_marketing',\n",
              "       'department_product_mng', 'department_sales', 'department_support',\n",
              "       'department_technical', 'salary_low', 'salary_medium'],\n",
              "      dtype='object')"
            ]
          },
          "metadata": {},
          "execution_count": 6
        }
      ]
    },
    {
      "cell_type": "code",
      "source": [
        "from sklearn.model_selection import train_test_split"
      ],
      "metadata": {
        "id": "kWaBeP9tCEqd"
      },
      "execution_count": 7,
      "outputs": []
    },
    {
      "cell_type": "code",
      "source": [
        "X = df_final.drop(['left'], axis=1).values\n",
        "Y = df_final['left'].values"
      ],
      "metadata": {
        "id": "QX-Y7OCECen-"
      },
      "execution_count": 8,
      "outputs": []
    },
    {
      "cell_type": "code",
      "source": [
        "print(X.shape)\n",
        "print(Y.shape)"
      ],
      "metadata": {
        "colab": {
          "base_uri": "https://localhost:8080/"
        },
        "id": "rA3KCcnlCxLq",
        "outputId": "d2ab527a-129d-4b8f-cbda-1d831afd558c"
      },
      "execution_count": 9,
      "outputs": [
        {
          "output_type": "stream",
          "name": "stdout",
          "text": [
            "(14999, 18)\n",
            "(14999,)\n"
          ]
        }
      ]
    },
    {
      "cell_type": "code",
      "source": [
        "x_train_new, x_test, y_train_new, y_test = train_test_split(X, Y, test_size=0.2, random_state=2021)"
      ],
      "metadata": {
        "id": "mKj4wqgWC--B"
      },
      "execution_count": 10,
      "outputs": []
    },
    {
      "cell_type": "code",
      "source": [
        "x_train, x_val, y_train, y_val = train_test_split(x_train_new, y_train_new, test_size=0.1, random_state=2021)"
      ],
      "metadata": {
        "id": "-iTIhsjPSx6J"
      },
      "execution_count": 11,
      "outputs": []
    },
    {
      "cell_type": "code",
      "source": [
        "from sklearn.preprocessing import StandardScaler\n",
        "\n",
        "sc = StandardScaler()\n",
        "x_train = sc.fit_transform(x_train)\n",
        "x_test = sc.fit_transform(x_test)\n",
        "x_val = sc.fit_transform(x_val)"
      ],
      "metadata": {
        "id": "PKr7CiuNDdBk"
      },
      "execution_count": 12,
      "outputs": []
    },
    {
      "cell_type": "code",
      "source": [
        "print(x_train)\n",
        "print(x_train.shape)\n",
        "print(y_train.shape)"
      ],
      "metadata": {
        "colab": {
          "base_uri": "https://localhost:8080/"
        },
        "id": "_nMwleEgDlJu",
        "outputId": "30451b40-997e-4480-9404-65b4d5e0c917"
      },
      "execution_count": 13,
      "outputs": [
        {
          "output_type": "stream",
          "name": "stdout",
          "text": [
            "[[ 0.79074099  0.31148715 -0.65648126 ... -0.47441638 -0.97629713\n",
            "  -0.86796835]\n",
            " [-1.62104563  0.54536105  0.96135104 ... -0.47441638 -0.97629713\n",
            "   1.15211574]\n",
            " [ 0.9917232   0.83770342 -0.65648126 ... -0.47441638  1.02427834\n",
            "  -0.86796835]\n",
            " ...\n",
            " [ 0.42897299 -0.09779216  0.15243489 ... -0.47441638  1.02427834\n",
            "  -0.86796835]\n",
            " [-1.01809898 -0.97481927 -0.65648126 ... -0.47441638 -0.97629713\n",
            "  -0.86796835]\n",
            " [ 0.67015165  0.83770342  0.15243489 ... -0.47441638 -0.97629713\n",
            "   1.15211574]]\n",
            "(10799, 18)\n",
            "(10799,)\n"
          ]
        }
      ]
    },
    {
      "cell_type": "code",
      "source": [
        "import keras\n",
        "from keras.layers import Dense, Dropout\n",
        "from keras.models import Sequential\n",
        "from keras.callbacks import EarlyStopping"
      ],
      "metadata": {
        "id": "mTBquab-EMJG"
      },
      "execution_count": 14,
      "outputs": []
    },
    {
      "cell_type": "code",
      "source": [
        "feed_model = Sequential()"
      ],
      "metadata": {
        "id": "1a2_dTJEEyZR"
      },
      "execution_count": 15,
      "outputs": []
    },
    {
      "cell_type": "code",
      "source": [
        "feed_model.add(Dense(10, input_dim=18, activation=\"relu\", kernel_initializer=\"uniform\", kernel_regularizer='l2'))\n",
        "feed_model.add(Dropout(0.2))"
      ],
      "metadata": {
        "id": "XtEUvDQaE5g0"
      },
      "execution_count": 16,
      "outputs": []
    },
    {
      "cell_type": "code",
      "source": [
        "feed_model.add(Dense(1, activation=\"sigmoid\", kernel_initializer=\"uniform\"))"
      ],
      "metadata": {
        "id": "mhS0BDSOGwOU"
      },
      "execution_count": 17,
      "outputs": []
    },
    {
      "cell_type": "code",
      "source": [
        "!pip install keras-visualizer\n",
        "from keras_visualizer import visualizer"
      ],
      "metadata": {
        "colab": {
          "base_uri": "https://localhost:8080/"
        },
        "id": "pRX48PcAHhew",
        "outputId": "be72e07b-f5ba-40b8-c80d-cb0e3639a0cd"
      },
      "execution_count": 18,
      "outputs": [
        {
          "output_type": "stream",
          "name": "stdout",
          "text": [
            "Collecting keras-visualizer\n",
            "  Downloading keras_visualizer-2.4-py3-none-any.whl (5.4 kB)\n",
            "Installing collected packages: keras-visualizer\n",
            "Successfully installed keras-visualizer-2.4\n"
          ]
        }
      ]
    },
    {
      "cell_type": "code",
      "source": [
        "visualizer(feed_model, format='png', view=True)"
      ],
      "metadata": {
        "id": "M_RhGwiBHytH"
      },
      "execution_count": 19,
      "outputs": []
    },
    {
      "cell_type": "code",
      "source": [
        "feed_model.summary()"
      ],
      "metadata": {
        "colab": {
          "base_uri": "https://localhost:8080/"
        },
        "id": "B8DkU_3YIRTt",
        "outputId": "df73e7cb-7c81-4f7e-ca13-fcf9b0149bb2"
      },
      "execution_count": 20,
      "outputs": [
        {
          "output_type": "stream",
          "name": "stdout",
          "text": [
            "Model: \"sequential\"\n",
            "_________________________________________________________________\n",
            " Layer (type)                Output Shape              Param #   \n",
            "=================================================================\n",
            " dense (Dense)               (None, 10)                190       \n",
            "                                                                 \n",
            " dropout (Dropout)           (None, 10)                0         \n",
            "                                                                 \n",
            " dense_1 (Dense)             (None, 1)                 11        \n",
            "                                                                 \n",
            "=================================================================\n",
            "Total params: 201\n",
            "Trainable params: 201\n",
            "Non-trainable params: 0\n",
            "_________________________________________________________________\n"
          ]
        }
      ]
    },
    {
      "cell_type": "code",
      "source": [
        "feed_model.compile(optimizer= \"adam\", loss = \"binary_crossentropy\", metrics = [\"accuracy\"])"
      ],
      "metadata": {
        "id": "maR_KSv7IwGL"
      },
      "execution_count": 21,
      "outputs": []
    },
    {
      "cell_type": "code",
      "source": [
        "# feed_model.fit(x_train, y_train, batch_size=10, epochs=1, validation_split=0.1)\n",
        "\n",
        "monitor_loss = EarlyStopping(monitor='loss', patience=2)\n",
        "\n",
        "feed_model.fit(x_train, y_train, batch_size=10, epochs=1, validation_data=[x_val, y_val], callbacks=monitor_loss)"
      ],
      "metadata": {
        "colab": {
          "base_uri": "https://localhost:8080/"
        },
        "id": "IE0zrNNLJD-G",
        "outputId": "75e754a7-47a2-4476-8bae-34652125a30a"
      },
      "execution_count": 22,
      "outputs": [
        {
          "output_type": "stream",
          "name": "stdout",
          "text": [
            "1080/1080 [==============================] - 6s 4ms/step - loss: 0.4539 - accuracy: 0.7888 - val_loss: 0.3515 - val_accuracy: 0.8367\n"
          ]
        },
        {
          "output_type": "execute_result",
          "data": {
            "text/plain": [
              "<keras.callbacks.History at 0x7f8b87faed90>"
            ]
          },
          "metadata": {},
          "execution_count": 22
        }
      ]
    },
    {
      "cell_type": "code",
      "source": [
        "y_pred = feed_model.predict(x_test)"
      ],
      "metadata": {
        "id": "EUgGdohZJ5xJ"
      },
      "execution_count": 23,
      "outputs": []
    },
    {
      "cell_type": "code",
      "source": [
        "print(y_pred)"
      ],
      "metadata": {
        "colab": {
          "base_uri": "https://localhost:8080/"
        },
        "id": "Gpczg5q1KM_2",
        "outputId": "d783869a-b79c-4b0e-99d7-d24c09dcc24b"
      },
      "execution_count": 24,
      "outputs": [
        {
          "output_type": "stream",
          "name": "stdout",
          "text": [
            "[[0.10104324]\n",
            " [0.5641714 ]\n",
            " [0.08855135]\n",
            " ...\n",
            " [0.01469496]\n",
            " [0.18539098]\n",
            " [0.29292646]]\n"
          ]
        }
      ]
    },
    {
      "cell_type": "code",
      "source": [
        "y_pred = (y_pred>0.5)"
      ],
      "metadata": {
        "id": "jBB-OkR_KObX"
      },
      "execution_count": 25,
      "outputs": []
    },
    {
      "cell_type": "code",
      "source": [
        "y_pred"
      ],
      "metadata": {
        "colab": {
          "base_uri": "https://localhost:8080/"
        },
        "id": "M7x8sCwiK2V5",
        "outputId": "99fdbb4e-b21f-46e3-d4d1-1c9490f6b628"
      },
      "execution_count": 26,
      "outputs": [
        {
          "output_type": "execute_result",
          "data": {
            "text/plain": [
              "array([[False],\n",
              "       [ True],\n",
              "       [False],\n",
              "       ...,\n",
              "       [False],\n",
              "       [False],\n",
              "       [False]])"
            ]
          },
          "metadata": {},
          "execution_count": 26
        }
      ]
    },
    {
      "cell_type": "code",
      "source": [
        "from sklearn.metrics import confusion_matrix"
      ],
      "metadata": {
        "id": "GYNk5YT-K3OK"
      },
      "execution_count": 27,
      "outputs": []
    },
    {
      "cell_type": "code",
      "source": [
        "cm = confusion_matrix(y_test, y_pred)"
      ],
      "metadata": {
        "id": "qk2c-rz-LMe4"
      },
      "execution_count": 28,
      "outputs": []
    },
    {
      "cell_type": "code",
      "source": [
        "cm"
      ],
      "metadata": {
        "colab": {
          "base_uri": "https://localhost:8080/"
        },
        "id": "_CCjcdCPLP7J",
        "outputId": "effeda4c-4b89-4f7a-edec-0155cceba7f1"
      },
      "execution_count": 29,
      "outputs": [
        {
          "output_type": "execute_result",
          "data": {
            "text/plain": [
              "array([[2229,   46],\n",
              "       [ 437,  288]])"
            ]
          },
          "metadata": {},
          "execution_count": 29
        }
      ]
    },
    {
      "cell_type": "code",
      "source": [
        "acc = (2178+ 304)/y_test.shape[0]"
      ],
      "metadata": {
        "id": "OBwcoWUBLRDh"
      },
      "execution_count": 30,
      "outputs": []
    },
    {
      "cell_type": "code",
      "source": [
        "acc"
      ],
      "metadata": {
        "colab": {
          "base_uri": "https://localhost:8080/"
        },
        "id": "YkogEA5VLvi2",
        "outputId": "b3526202-7b69-4bd5-b7d6-f41ea13d7039"
      },
      "execution_count": 31,
      "outputs": [
        {
          "output_type": "execute_result",
          "data": {
            "text/plain": [
              "0.8273333333333334"
            ]
          },
          "metadata": {},
          "execution_count": 31
        }
      ]
    },
    {
      "cell_type": "code",
      "source": [
        "# Custom model build"
      ],
      "metadata": {
        "id": "SPS0-6zuL2G-"
      },
      "execution_count": 32,
      "outputs": []
    },
    {
      "cell_type": "code",
      "source": [
        "import keras\n",
        "from keras.layers import Dense, Input\n"
      ],
      "metadata": {
        "id": "YpCxKR9mMKSS"
      },
      "execution_count": 33,
      "outputs": []
    },
    {
      "cell_type": "code",
      "source": [
        "input_layer = Input(shape=(18,))\n",
        "hidden_layer = Dense(10, activation='relu')(input_layer)\n",
        "output_layer = Dense(1, activation='sigmoid')(hidden_layer)\n",
        "\n",
        "feed_custom_model = keras.Model(inputs=input_layer, outputs=output_layer)"
      ],
      "metadata": {
        "id": "wLID5o_6MU4C"
      },
      "execution_count": 34,
      "outputs": []
    },
    {
      "cell_type": "code",
      "source": [
        "feed_custom_model.summary()"
      ],
      "metadata": {
        "colab": {
          "base_uri": "https://localhost:8080/"
        },
        "id": "eO-qTpN7NSdk",
        "outputId": "c25657d4-97ef-4d45-daa6-4888dc4289ec"
      },
      "execution_count": 35,
      "outputs": [
        {
          "output_type": "stream",
          "name": "stdout",
          "text": [
            "Model: \"model\"\n",
            "_________________________________________________________________\n",
            " Layer (type)                Output Shape              Param #   \n",
            "=================================================================\n",
            " input_1 (InputLayer)        [(None, 18)]              0         \n",
            "                                                                 \n",
            " dense_2 (Dense)             (None, 10)                190       \n",
            "                                                                 \n",
            " dense_3 (Dense)             (None, 1)                 11        \n",
            "                                                                 \n",
            "=================================================================\n",
            "Total params: 201\n",
            "Trainable params: 201\n",
            "Non-trainable params: 0\n",
            "_________________________________________________________________\n"
          ]
        }
      ]
    },
    {
      "cell_type": "code",
      "source": [
        "feed_custom_model.compile(optimizer= \"adam\", loss = \"binary_crossentropy\", metrics = [\"accuracy\"])\n",
        "feed_custom_model.fit(x_train, y_train, batch_size=10, epochs=1, validation_split=0.1)"
      ],
      "metadata": {
        "colab": {
          "base_uri": "https://localhost:8080/"
        },
        "id": "_9ugBLEkMNC5",
        "outputId": "5baf03b5-5a37-41bd-970f-e8ae1da3c147"
      },
      "execution_count": 36,
      "outputs": [
        {
          "output_type": "stream",
          "name": "stdout",
          "text": [
            "972/972 [==============================] - 4s 4ms/step - loss: 0.4655 - accuracy: 0.7762 - val_loss: 0.3481 - val_accuracy: 0.8213\n"
          ]
        },
        {
          "output_type": "execute_result",
          "data": {
            "text/plain": [
              "<keras.callbacks.History at 0x7f8c7b0bc790>"
            ]
          },
          "metadata": {},
          "execution_count": 36
        }
      ]
    },
    {
      "cell_type": "code",
      "source": [
        "# visualizer(feed_custom_model, filename='custom_nn_model', format='png', view=True)"
      ],
      "metadata": {
        "id": "Yu7JA5UrNU-F"
      },
      "execution_count": 37,
      "outputs": []
    },
    {
      "cell_type": "code",
      "source": [
        ""
      ],
      "metadata": {
        "id": "FNjOfpMwNhsw"
      },
      "execution_count": 37,
      "outputs": []
    }
  ]
}